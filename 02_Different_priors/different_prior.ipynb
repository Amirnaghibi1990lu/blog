{
 "metadata": {
  "name": ""
 },
 "nbformat": 3,
 "nbformat_minor": 0,
 "worksheets": [
  {
   "cells": [
    {
     "cell_type": "code",
     "collapsed": false,
     "input": [
      "import numpy as np\n",
      "import matplotlib.pyplot as plt\n",
      "import decimal"
     ],
     "language": "python",
     "metadata": {},
     "outputs": [],
     "prompt_number": 1
    },
    {
     "cell_type": "code",
     "collapsed": false,
     "input": [
      "def generate_HT():\n",
      "    '''\n",
      "    Function to generate random number to represent head (1) or tail (0) in a coin toss. \n",
      "    What I did here is to generate an integer number between 0 and 4, and if it is one, then return one (head), \n",
      "    otherwise return zero (tail). This is to say, the probability of getting a head is 0.25, so it is a biased coin.\n",
      "    '''\n",
      "    #generate a random integer between 0 and 4\n",
      "    rnd = np.random.randint(0,4)\n",
      "    \n",
      "    if rnd > 1:\n",
      "        return 0\n",
      "    else:\n",
      "        return rnd"
     ],
     "language": "python",
     "metadata": {},
     "outputs": [],
     "prompt_number": 2
    },
    {
     "cell_type": "code",
     "collapsed": false,
     "input": [
      "def simulation(N = 100):\n",
      "    '''\n",
      "    This is the function to simulate multiple toss of a coin, and it returns two numbers and a list:\n",
      "    number of cases of head, and number of cases of tail, and outcome_list contains all the outcome \n",
      "    in order. N is the total number of toss. \n",
      "    '''\n",
      "    outcome_list = []\n",
      "    R = 0\n",
      "    for i in range(N):\n",
      "        out = generate_HT()\n",
      "        if out == 1:\n",
      "            R += 1\n",
      "        outcome_list.append(out)    \n",
      "    return R, N-R, outcome_list"
     ],
     "language": "python",
     "metadata": {},
     "outputs": [],
     "prompt_number": 3
    },
    {
     "cell_type": "code",
     "collapsed": false,
     "input": [
      "def plot_exmaple_of_all():\n",
      "    '''\n",
      "    This is the funciton to plot the figures show the evolution of the posterior pdf\n",
      "    as the number of tosses increase. I use 3 priors here:\n",
      "    1 - Uniform\n",
      "    2 - Beta Distribution (alpha = 0.5, beta = 0.5)\n",
      "    3 - Beta Distribution (alpha = 100, beta = 100)\n",
      "    '''\n",
      "    n_tosses = [0, 1, 2, 3, 4, 8, 16, 32, 64, 128, 256, 512, 1024, 2048, 4096]\n",
      "    fig = plt.figure(figsize = (15,9.5))\n",
      "    \n",
      "    H = np.linspace(0,1,300)\n",
      "    \n",
      "    #do a simulation with 4096 tosses\n",
      "    total_R, total_T, outcome_list = simulation(N = 4096)\n",
      "    \n",
      "    for i, toss in enumerate(n_tosses):\n",
      "        \n",
      "        #get the outcome to the tosses\n",
      "        outcome = outcome_list[0:toss]\n",
      "        #get the total number of heads\n",
      "        R = outcome.count(1)\n",
      "        #get the total number of tails\n",
      "        T = toss - R\n",
      "        \n",
      "        #calculate the posterior\n",
      "        alpha1 = beta1 = 0.5\n",
      "        alpha2 = beta2 = 100\n",
      "        if i > 12:\n",
      "            #for the last two cases, we need special treatment, otherwise we will have underflow\n",
      "            #problem, that the posterior will be 0. What I did here is using the decimal module to \n",
      "            #calculate the small number, then multiply it with a scalar to scale it so that it is\n",
      "            #not a small number anymore, then for comparison reasons, I normalize it to 1. \n",
      "            y1_uniform = R*np.log(H) + T*np.log(1-H)\n",
      "            y1_beta1 = (R+alpha1-1)*np.log(H) + (T+beta1-1)*np.log(1-H)\n",
      "            y1_beta2 = (R+alpha2-1)*np.log(H) + (T+beta2-1)*np.log(1-H)\n",
      "            \n",
      "            y_uniform = []\n",
      "            y_beta1 = []\n",
      "            y_beta2 = []\n",
      "            uniform_factor = int((-1)*np.min(y1_uniform[1:-1])/20)\n",
      "            beta1_factor = int((-1)*np.min(y1_beta1[1:-1])/20)\n",
      "            beta2_factor = int((-1)*np.min(y1_beta2[1:-1])/20)\n",
      "            for k in range(len(y1_uniform)):\n",
      "                y_uniform.append(decimal.Decimal(y1_uniform[k]).exp()*10**uniform_factor)\n",
      "                y_beta1.append(decimal.Decimal(y1_beta1[k]).exp()*10**beta1_factor)\n",
      "                y_beta2.append(decimal.Decimal(y1_beta2[k]).exp()*10**beta2_factor)\n",
      "            \n",
      "            #normalize so that the maximum is 1 for comparison\n",
      "            y_uniform = [x * int(1 / np.max(y_uniform)) for x in y_uniform]\n",
      "            y_beta1 = [x * int(1 / np.max(y_beta1)) for x in y_beta1]\n",
      "            y_beta2 = [x * int(1 / np.max(y_beta2)) for x in y_beta2]\n",
      "            \n",
      "        else:\n",
      "            y_uniform = H**R*(1-H)**T * 1 \n",
      "            y_beta1 = H**R*(1-H)**T * H**(alpha1-1)*(1-H)**(beta1-1)\n",
      "            y_beta2 = H**R*(1-H)**T * H**(alpha2-1)*(1-H)**(beta2-1)\n",
      "            \n",
      "            #normalize so that the maximum is 1 for comparison\n",
      "            y_uniform /= np.max(y_uniform)\n",
      "            y_beta1 /= np.max(y_beta1[1:-1])\n",
      "            y_beta2 /=np.max(y_beta2)\n",
      "            \n",
      "        #plot the pdf\n",
      "        ax = plt.subplot(5, 3, i+1)\n",
      "        ax.plot(H, y_uniform, 'b', label = 'Uniform')\n",
      "        ax.plot(H, y_beta1, 'r', linestyle='--', label = 'Beta 0.5 0.5')\n",
      "        ax.plot(H, y_beta2, 'g', linestyle=':', label = 'Beta 100 100')\n",
      "        plt.ylim((0, 1.2))\n",
      "        #disable y axis label\n",
      "        ax.yaxis.set_visible(False)\n",
      "\n",
      "        # Setting the x-axis major tick's label\n",
      "        ax.set_xticks([0, 0.25, 0.5, 0.75, 1])\n",
      "        ax.set_xticklabels(['0','','0.5','','1'])\n",
      "        ax.annotate(str(R) + 'H, ' + str(T) + 'T, N=' + str(toss), xy=(1, 0.1), xycoords='axes fraction', fontsize=12,\n",
      "                horizontalalignment='right', verticalalignment='bottom')        \n",
      "    \n",
      "    plt.show()\n",
      "    return y_uniform"
     ],
     "language": "python",
     "metadata": {},
     "outputs": [],
     "prompt_number": 4
    },
    {
     "cell_type": "code",
     "collapsed": false,
     "input": [
      "a = plot_exmaple_of_all()"
     ],
     "language": "python",
     "metadata": {},
     "outputs": [
      {
       "output_type": "stream",
       "stream": "stderr",
       "text": [
        "-c:56: RuntimeWarning: divide by zero encountered in power\n",
        "-c:56: RuntimeWarning: invalid value encountered in multiply\n",
        "-c:34: RuntimeWarning: divide by zero encountered in log\n"
       ]
      },
      {
       "output_type": "stream",
       "stream": "stderr",
       "text": [
        "-c:35: RuntimeWarning: divide by zero encountered in log\n",
        "-c:36: RuntimeWarning: divide by zero encountered in log\n"
       ]
      }
     ],
     "prompt_number": 5
    }
   ],
   "metadata": {}
  }
 ]
}