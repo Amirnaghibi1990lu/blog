{
 "cells": [
  {
   "cell_type": "markdown",
   "metadata": {},
   "source": [
    "This week, I will give some examples of the [object-oriented programming](https://en.wikipedia.org/wiki/Object-oriented_programming) part of Python. The object-oriented programming has [many advantages](https://www.quora.com/What-are-the-benefits-of-object-oriented-programming). And I really like them due to the reusability of the code and the feeling of modeling the world :-). I will give some examples that I usually use in my code as a quick guide of how to use these in your code. This tutorial serves as a quick guide, if you want to learn more, you should go to the [documentation](https://docs.python.org/3/tutorial/classes.html). \n",
    "\n",
    "\n",
    "### Define a class\n",
    "Let's start to look at the following examples, where we create a People class. "
   ]
  },
  {
   "cell_type": "code",
   "execution_count": 1,
   "metadata": {
    "collapsed": true
   },
   "outputs": [],
   "source": [
    "class People(object):\n",
    "    \n",
    "    def __init__(self, name, age):\n",
    "        self.name = name\n",
    "        self.age = age\n",
    "        \n",
    "    def greet(self):\n",
    "        print(\"Greetings, \" + self.name)"
   ]
  },
  {
   "cell_type": "markdown",
   "metadata": {},
   "source": [
    "Typical python class has a constructor, that is the \\__init\\__() function, which initializes the class when you call it. This means that, when you first initialize your class, this function will be only run once. The 'self' means the instance itself, you can find a very [good explanation here](https://pythontips.com/2013/08/07/the-self-variable-in-python-explained/). The self.name and self.age are the attributes that the class will have, you can see from the following example. And the greet function is the method that we define in the class. Let's see how we can actually use it.   "
   ]
  },
  {
   "cell_type": "code",
   "execution_count": 2,
   "metadata": {},
   "outputs": [
    {
     "name": "stdout",
     "output_type": "stream",
     "text": [
      "Greetings, Iron Man\n",
      "Iron Man\n"
     ]
    }
   ],
   "source": [
    "person1 = People(name = 'Iron Man', age = 35)\n",
    "person1.greet()\n",
    "print(person1.name)"
   ]
  },
  {
   "cell_type": "markdown",
   "metadata": {},
   "source": [
    "### Inheritance\n",
    "\n",
    "One of the most important features of using the object-oriented programming is that we can easily reuse the code above to create some new classes. For example, we want to have another class Teacher that have all the attributes and methods People class have, but at the same time, we want to have more new methods. "
   ]
  },
  {
   "cell_type": "code",
   "execution_count": 3,
   "metadata": {
    "collapsed": true
   },
   "outputs": [],
   "source": [
    "class Teacher(People):\n",
    "    \n",
    "    def teach_students(self, x, y):\n",
    "        print('x + y = %d'%(x+y))"
   ]
  },
  {
   "cell_type": "code",
   "execution_count": 4,
   "metadata": {},
   "outputs": [
    {
     "name": "stdout",
     "output_type": "stream",
     "text": [
      "Greetings, Susan\n",
      "x + y = 8\n"
     ]
    }
   ],
   "source": [
    "teacher1 = Teacher(name = 'Susan', age = 24)\n",
    "teacher1.greet()\n",
    "teacher1.teach_students(x = 3, y = 5)"
   ]
  },
  {
   "cell_type": "markdown",
   "metadata": {},
   "source": [
    "We can see from the above code that, we don't need to re-define all the attributes and greet function, the Teacher class actually have all these from People class, this is due to this line: **class Teacher(People)**, which basically say that we want Teacher class to get all the things from People class. This is called inherit, and class Teacher inherits from class People. And People is the parent class and Teacher is a child class. And then we could extend the methods in class Teacher by just define new functions. Or if we want to replace some of the old methods in People, all we need to do is to re-define the function, for example, in the following lines, we replace the greet method in People with a new one that greet the teacher. "
   ]
  },
  {
   "cell_type": "code",
   "execution_count": 5,
   "metadata": {
    "collapsed": true
   },
   "outputs": [],
   "source": [
    "class Teacher(People):\n",
    "    \n",
    "    def greet(self):\n",
    "        print(\"Greetings, teacher: \" + self.name)\n",
    "    \n",
    "    def teach_students(self, x, y):\n",
    "        print('x + y = %d'%(x+y))"
   ]
  },
  {
   "cell_type": "code",
   "execution_count": 6,
   "metadata": {},
   "outputs": [
    {
     "name": "stdout",
     "output_type": "stream",
     "text": [
      "Greetings, teacher: Susan\n"
     ]
    }
   ],
   "source": [
    "teacher1 = Teacher(name = 'Susan', age = 24)\n",
    "teacher1.greet()"
   ]
  },
  {
   "cell_type": "markdown",
   "metadata": {},
   "source": [
    "### The super method\n",
    "\n",
    "Also, often times, we want to expand the constructor by having more attributes and so on, but at the same time, we don't want to re-type all the code as before, therefore, we could use the super method to avoid referring to the parent class explicitly. Let's see below that we want to add a studentId field into the Student class. "
   ]
  },
  {
   "cell_type": "code",
   "execution_count": 7,
   "metadata": {},
   "outputs": [],
   "source": [
    "class Student(People):\n",
    "    def __init__(self, name, age, studentId):\n",
    "        super().__init__(name, age)\n",
    "        self.studentId = studentId"
   ]
  },
  {
   "cell_type": "code",
   "execution_count": 8,
   "metadata": {},
   "outputs": [
    {
     "name": "stdout",
     "output_type": "stream",
     "text": [
      "Student Kevin has id as 12345\n"
     ]
    }
   ],
   "source": [
    "student1 = Student(name = 'Kevin', age = 20, studentId = '12345')\n",
    "print('Student %s has id as %s'%(student1.name, student1.studentId))"
   ]
  },
  {
   "cell_type": "markdown",
   "metadata": {},
   "source": [
    "### Multiple inheritances\n",
    "\n",
    "What if we have a student_teacher class that we want to inherit from both Teacher and Student class. Easy, you can just do the following:"
   ]
  },
  {
   "cell_type": "code",
   "execution_count": 9,
   "metadata": {
    "collapsed": true
   },
   "outputs": [],
   "source": [
    "class Student_Teacher(Teacher, Student):\n",
    "    pass"
   ]
  },
  {
   "cell_type": "code",
   "execution_count": 10,
   "metadata": {},
   "outputs": [
    {
     "name": "stdout",
     "output_type": "stream",
     "text": [
      "Teacher Kate has studentId as 54321\n",
      "x + y = 9\n"
     ]
    }
   ],
   "source": [
    "st1 = Student_Teacher(name = 'Kate', age = 23, studentId = '54321')\n",
    "print('Teacher %s has studentId as %s'%(st1.name, st1.studentId))\n",
    "st1.teach_students(3,6)"
   ]
  }
 ],
 "metadata": {
  "kernelspec": {
   "display_name": "Python 3",
   "language": "python",
   "name": "python3"
  },
  "language_info": {
   "codemirror_mode": {
    "name": "ipython",
    "version": 3
   },
   "file_extension": ".py",
   "mimetype": "text/x-python",
   "name": "python",
   "nbconvert_exporter": "python",
   "pygments_lexer": "ipython3",
   "version": "3.6.5"
  }
 },
 "nbformat": 4,
 "nbformat_minor": 2
}
