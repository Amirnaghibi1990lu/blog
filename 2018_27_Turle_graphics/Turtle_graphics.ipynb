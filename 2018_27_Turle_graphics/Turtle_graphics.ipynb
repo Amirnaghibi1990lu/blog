{
 "cells": [
  {
   "attachments": {},
   "cell_type": "markdown",
   "metadata": {},
   "source": [
    "Turtle graphics is a popular way for introducing programming to kids. It was part of the original Logo programming language developed by Wally Feurzig and Seymour Papert in 1966. You can find more information [here](https://docs.python.org/3/library/turtle.html). With the following lines, you can create this star from the example. \n",
    "\n",
    "![image.png](https://docs.python.org/3.3/_images/turtle-star.png)"
   ]
  },
  {
   "cell_type": "code",
   "execution_count": 5,
   "metadata": {},
   "outputs": [],
   "source": [
    "from turtle import *\n",
    "color('red', 'yellow')\n",
    "begin_fill()\n",
    "while True:\n",
    "    forward(200)\n",
    "    left(170)\n",
    "    if abs(pos()) < 1:\n",
    "        break\n",
    "end_fill()\n",
    "done()"
   ]
  },
  {
   "cell_type": "markdown",
   "metadata": {},
   "source": [
    "With some changes, we could make this nice figure, it is really cool to see how it draws this beautiful pattern. \n",
    "\n",
    "<center><img src=\"./figures/figure_0.jpg\" height=\"300\" /> </center>"
   ]
  },
  {
   "cell_type": "code",
   "execution_count": 7,
   "metadata": {},
   "outputs": [],
   "source": [
    "colors = ['red', 'orange', 'yellow', 'green', 'cyan', 'blue']\n",
    "p = Pen()\n",
    "p.speed(0)\n",
    "bgcolor('black')\n",
    "begin_fill()\n",
    "for i in range(360):\n",
    "    p.pencolor(colors[i%6])\n",
    "    p.width(i/100+1)\n",
    "    p.forward(i)\n",
    "    p.left(59)\n",
    "end_fill()\n",
    "done()"
   ]
  },
  {
   "cell_type": "code",
   "execution_count": null,
   "metadata": {
    "collapsed": true
   },
   "outputs": [],
   "source": []
  }
 ],
 "metadata": {
  "kernelspec": {
   "display_name": "Python 3",
   "language": "python",
   "name": "python3"
  },
  "language_info": {
   "codemirror_mode": {
    "name": "ipython",
    "version": 3
   },
   "file_extension": ".py",
   "mimetype": "text/x-python",
   "name": "python",
   "nbconvert_exporter": "python",
   "pygments_lexer": "ipython3",
   "version": "3.6.1"
  }
 },
 "nbformat": 4,
 "nbformat_minor": 2
}
