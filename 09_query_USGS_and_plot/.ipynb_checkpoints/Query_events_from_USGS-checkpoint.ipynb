{
 "metadata": {
  "name": "",
  "signature": "sha256:bab92e6ad70e42aeec696ddd3f5c0c164beee14621347efaaadf4617359cd3e1"
 },
 "nbformat": 3,
 "nbformat_minor": 0,
 "worksheets": [
  {
   "cells": [
    {
     "cell_type": "markdown",
     "metadata": {},
     "source": [
      "The following shows you how to query the USGS earthquake catlog online and plot the earthquakes on a map. \n",
      "Dependences you need:\n",
      "(1) Matplotlib\n",
      "(2) Numpy\n",
      "(3) BeautifulSoup\n",
      "(4) urllib\n",
      "(5) Basemap\n",
      "\n",
      "The idea is: Query the data from USGS directly, get the location and magnitude of the earthquake, and plot them on the map. You can find the script on Qingkai's github. "
     ]
    },
    {
     "cell_type": "code",
     "collapsed": false,
     "input": [
      "from bs4 import BeautifulSoup\n",
      "import urllib\n",
      "import numpy as np\n",
      "import matplotlib.pyplot as plt\n",
      "from mpl_toolkits.basemap import Basemap\n",
      "%pylab inline"
     ],
     "language": "python",
     "metadata": {},
     "outputs": [
      {
       "output_type": "stream",
       "stream": "stdout",
       "text": [
        "Populating the interactive namespace from numpy and matplotlib\n"
       ]
      }
     ],
     "prompt_number": 3
    },
    {
     "cell_type": "code",
     "collapsed": false,
     "input": [
      "def build_query(outFormat = 'text', starttime = '2016-02-01', endtime = '2016-03-01', minmagnitude = 5.0):\n",
      "    '''\n",
      "    Funciton to build the url for query the data. Details can be found at USGS api documentation:\n",
      "    http://earthquake.usgs.gov/fdsnws/event/1/\n",
      "    \n",
      "    Note: you can add more parameters, but I just need time range and minmum magnitude to start with. \n",
      "    '''\n",
      "    base = 'http://earthquake.usgs.gov/fdsnws/event/1/query?'\n",
      "    url = base + 'format=' + outFormat + '&starttime=' + starttime + '&endtime=' + endtime + '&minmagnitude=' + str(minmagnitude)\n",
      "    return url\n",
      "\n",
      "def parse_result(inputText):\n",
      "    '''\n",
      "    Function to parse the requested earthquake events data from USGS, and save it into numpy array\n",
      "    '''\n",
      "    event_id = []\n",
      "    origin_time = []\n",
      "    evla = []\n",
      "    evlo = []\n",
      "    evdp = []\n",
      "    mag = []\n",
      "    mag_type = []\n",
      "    EventLocationName  = []\n",
      "    for i, item in enumerate(inputText.split('\\n')[0:-1]):\n",
      "        if i < 1:\n",
      "            # skip the header\n",
      "            continue\n",
      "            \n",
      "        try:\n",
      "            splited = item.split('|')\n",
      "            event_id.append(splited[0])  \n",
      "            origin_time.append(splited[1])\n",
      "            evla.append(splited[2])\n",
      "            evlo.append(splited[3])\n",
      "            evdp.append(splited[4])\n",
      "            mag.append(splited[10])\n",
      "            mag_type.append(splited[9])\n",
      "            EventLocationName.append(splited[-1])\n",
      "        except:\n",
      "            # just in case there are some wrong data in the catlog\n",
      "            print item\n",
      "            print 'Skip wrong data or there is something wrong' \n",
      "        \n",
      "    return np.c_[event_id, origin_time, evla, evlo, mag, mag_type, EventLocationName]"
     ],
     "language": "python",
     "metadata": {},
     "outputs": [],
     "prompt_number": 4
    },
    {
     "cell_type": "code",
     "collapsed": false,
     "input": [
      "# let's get the earthquake larger than M5 globally from 2010-01-01 to 2016-01-01. \n",
      "url = build_query(outFormat = 'text', starttime = '2010-01-01', endtime = '2016-01-01', minmagnitude = 5.0)\n",
      "print url"
     ],
     "language": "python",
     "metadata": {},
     "outputs": [
      {
       "output_type": "stream",
       "stream": "stdout",
       "text": [
        "http://earthquake.usgs.gov/fdsnws/event/1/query?format=text&starttime=2010-01-01&endtime=2016-01-01&minmagnitude=5.0\n"
       ]
      }
     ],
     "prompt_number": 5
    },
    {
     "cell_type": "code",
     "collapsed": false,
     "input": [
      "# get the earthquake data from USGS and parse them into a numpy array\n",
      "r = urllib.urlopen(url).read()\n",
      "soup = BeautifulSoup(r, \"lxml\")\n",
      "events_mat = parse_result(soup.text)"
     ],
     "language": "python",
     "metadata": {},
     "outputs": []
    },
    {
     "cell_type": "code",
     "collapsed": false,
     "input": [
      "fig = plt.figure(figsize = (12,9))\n",
      "map_ax = fig.add_axes([0.03, 0.13, 0.94, 0.82])\n",
      "\n",
      "map = Basemap(projection='hammer',lon_0=180, resolution = 'l')\n",
      "\n",
      "map.drawmapboundary(fill_color='#99ffff')\n",
      "map.fillcontinents(color='#cc9966',lake_color='#99ffff')\n",
      "    \n",
      "###################################plot earthquakes###################################\n",
      "# get the latitude, longitude, and magnitude for plotting\n",
      "lats = [float(item[2]) for item in events_mat]\n",
      "lons = [float(item[3]) for item in events_mat]\n",
      "mags = [float(item[4]) for item in events_mat]\n",
      "x, y = map(lons, lats)\n",
      "\n",
      "#scale the size of the earthquake on the map\n",
      "min_size = 50\n",
      "max_size = 90\n",
      "min_mag = min(mags)\n",
      "max_mag = max(mags)\n",
      "\n",
      "frac = [(_i - min_mag) / (max_mag - min_mag) for _i in mags]\n",
      "magnitude_size = [(_i * (max_size - min_size)) **2 for _i in frac]\n",
      "map.scatter(x, y, marker='o', s=magnitude_size, c='r',zorder=10)\n",
      "\n",
      "\n",
      "###################################plot scale, annotation, and legend###################################\n",
      "plt.annotate('Berkeley Seismological Lab', xy=(0.01, 0.01), xycoords='axes fraction', fontsize = 16)\n",
      "legends = []\n",
      "for mag_ in [5., 6., 7., 8., 9.]:\n",
      "    frac = (mag_ - min_mag + 0.1) / (max_mag - min_mag)\n",
      "    magnitude_size = (frac * (max_size - min_size)) **2\n",
      "    l1 = plt.scatter([], [], marker='o', s=magnitude_size, c='red', zorder=10)\n",
      "    legends.append(l1)\n",
      "    \n",
      "ll = ['M5\\n', 'M6\\n', 'M7\\n', 'M8\\n', 'M9\\n']\n",
      "\n",
      "leg = plt.legend(legends, ll, scatterpoints = 1, ncol=6, frameon=False, fontsize=12, handlelength=7, \\\n",
      "    columnspacing = 0.01, bbox_to_anchor=(0.8, -0.06))   \n",
      "\n",
      "plt.show()\n"
     ],
     "language": "python",
     "metadata": {},
     "outputs": []
    }
   ],
   "metadata": {}
  }
 ]
}