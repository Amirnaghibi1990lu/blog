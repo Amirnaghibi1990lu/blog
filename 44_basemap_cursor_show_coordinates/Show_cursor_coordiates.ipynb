{
 "cells": [
  {
   "cell_type": "markdown",
   "metadata": {},
   "source": [
    "When we make a map using Basemap, sometimes we want to get the latitude and longitude directly on the map when we move the cursor. But we find that the numbers showing on the right bottom corner of the figure are not the latitude and longitude. What are the numbers showing here? They are the values converted from the longitude and latitude according to certain projection (in meters). Therefore, if we want to show latitude and longitude on the figure, we need convert them back.     \n",
    "\n",
    "Let's see an example, where I will plot my location on the map. We can see the numbers are x = 2.64707e+07, y = 1.90009e+07. "
   ]
  },
  {
   "cell_type": "code",
   "execution_count": null,
   "metadata": {
    "collapsed": true
   },
   "outputs": [],
   "source": [
    "from mpl_toolkits.basemap import Basemap\n",
    "import matplotlib.pyplot as plt"
   ]
  },
  {
   "cell_type": "code",
   "execution_count": null,
   "metadata": {
    "collapsed": true
   },
   "outputs": [],
   "source": [
    "plt.figure(figsize = (10,8))\n",
    "\n",
    "# miller projection\n",
    "map = Basemap(projection='mill',lon_0=180)\n",
    "\n",
    "# let's have a nice background\n",
    "map.etopo()\n",
    "\n",
    "# let's add Berkeley (my location) on the map\n",
    "my_lat = 37.8716\n",
    "my_lon = 237.7273\n",
    "\n",
    "# convert lat/lon to x/y map projection coordinates (in meters)\n",
    "x,y = map(my_lon, my_lat)\n",
    "\n",
    "# plot the star\n",
    "map.plot(x, y, 'r*', markersize = 20, zorder = 10)\n",
    "\n",
    "plt.show()"
   ]
  },
  {
   "cell_type": "markdown",
   "metadata": {},
   "source": [
    "<img src=\"https://raw.githubusercontent.com/qingkaikong/blog/master/44_basemap_cursor_show_coordinates/figures/figure_1.jpg\" width=\"400\"/> "
   ]
  },
  {
   "cell_type": "markdown",
   "metadata": {},
   "source": [
    "## Let's change the x, y to latitude and longitude"
   ]
  },
  {
   "cell_type": "code",
   "execution_count": null,
   "metadata": {
    "collapsed": true
   },
   "outputs": [],
   "source": [
    "# we define a helper function to convert x/y value back to lat/lon\n",
    "# all we need do is to do a reverse operation on the x/y value\n",
    "def format_coord(x, y):\n",
    "    return 'x=%.4f, y=%.4f'%(map(x, y, inverse = True))"
   ]
  },
  {
   "cell_type": "code",
   "execution_count": null,
   "metadata": {
    "collapsed": true
   },
   "outputs": [],
   "source": [
    "plt.figure(figsize = (10,8))\n",
    "\n",
    "# miller projection\n",
    "map = Basemap(projection='mill',lon_0=180)\n",
    "\n",
    "# let's have a nice background\n",
    "map.etopo()\n",
    "\n",
    "# let's add Berkeley (my location) on the map\n",
    "my_lat = 37.8716\n",
    "my_lon = 237.7273\n",
    "\n",
    "# convert lat/lon to x/y map projection coordinates (in meters)\n",
    "x,y = map(my_lon, my_lat)\n",
    "\n",
    "# plot the star\n",
    "map.plot(x, y, 'r*', markersize = 20, zorder = 10)\n",
    "\n",
    "ax = plt.gca()\n",
    "ax.format_coord = format_coord\n",
    "\n",
    "plt.show()"
   ]
  },
  {
   "cell_type": "markdown",
   "metadata": {},
   "source": [
    "<img src=\"https://raw.githubusercontent.com/qingkaikong/blog/master/44_basemap_cursor_show_coordinates/figures/figure_2.jpg\" width=\"400\"/> "
   ]
  },
  {
   "cell_type": "markdown",
   "metadata": {},
   "source": [
    "Now we can see that we converted the number back to x = Longitude, and y = Latitude. This way we can easily get the latitude and longitude we want. "
   ]
  },
  {
   "cell_type": "markdown",
   "metadata": {},
   "source": [
    "## Reference\n",
    "\n",
    "[See this question on the stackoverflow](http://stackoverflow.com/questions/23369019/interactively-get-readablei-e-lng-lat-coordinates-from-a-matplotlib-basemap-p)"
   ]
  }
 ],
 "metadata": {
  "kernelspec": {
   "display_name": "Python 2",
   "language": "python",
   "name": "python2"
  },
  "language_info": {
   "codemirror_mode": {
    "name": "ipython",
    "version": 2
   },
   "file_extension": ".py",
   "mimetype": "text/x-python",
   "name": "python",
   "nbconvert_exporter": "python",
   "pygments_lexer": "ipython2",
   "version": "2.7.11"
  }
 },
 "nbformat": 4,
 "nbformat_minor": 0
}
