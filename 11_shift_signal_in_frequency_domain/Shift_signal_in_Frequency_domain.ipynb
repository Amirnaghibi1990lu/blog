{
 "cells": [
  {
   "cell_type": "markdown",
   "metadata": {},
   "source": [
    "## Shift signal in frequency domain\n",
    "\n",
    "We need shift an signal for many cases, i.e. when we calculate cross correlation between signals, when we do beamforming to find out the direction of the energy comes, when we use back-projection to track the source of an earthquake, etc. One easy way to shift the signal is in the frequency domain. In this blog, I will show you how to shift an signal in the freuqnecy domain. \n",
    "\n",
    "### The theory behind it\n",
    "\n",
    "When we do a Fast Fourier Transform (FFT), we actually map a finite length of time domain samples into an equal length sequence of frequency domain samples. \n",
    "\n",
    "$$X[k]=\\sum_{n = 0}^{N−1}  x[n]e^{\\frac{−j2πnk}{N}}=A_ke^{jϕ_k}$$\n",
    "\n",
    "A property of the Fourier transform is that, a delay in the time domain maps to a phase shift in the frequency domain. For the DFT, this property is:\n",
    "\n",
    "$$x[n]↔X[k]$$\n",
    "\n",
    "$$x[n−D]↔e^{\\frac{−j2πnkD}{N}}X[k]$$\n",
    "\n",
    "This is to say, if we delay our input signal by D samples in the time domain, it is equavalent to each complex value in the FFT of the signal is multiplied by the constant $$e^{\\frac{−j2πnkD}{N}}$$."
   ]
  },
  {
   "cell_type": "code",
   "execution_count": 1,
   "metadata": {
    "collapsed": true
   },
   "outputs": [],
   "source": [
    "import matplotlib.pyplot as plt\n",
    "import numpy as np"
   ]
  },
  {
   "cell_type": "code",
   "execution_count": 2,
   "metadata": {
    "collapsed": true
   },
   "outputs": [],
   "source": [
    "def nextpow2(i):\n",
    "    '''\n",
    "    Find the next power 2 number for FFT\n",
    "    '''\n",
    "    \n",
    "    n = 1\n",
    "    while n < i: n *= 2\n",
    "    return n\n",
    "\n",
    "def shift_signal_in_frequency_domain(datin, shift):\n",
    "    '''\n",
    "    This is function to shift a signal in frequency domain. \n",
    "    The idea is in the frequency domain, \n",
    "    we just multiply the signal with the phase shift. \n",
    "    '''\n",
    "    Nin = len(datin) \n",
    "    \n",
    "    # get the next power 2 number for fft\n",
    "    N = nextpow2(Nin +np.max(np.abs(shift)))\n",
    "    \n",
    "    # do the fft\n",
    "    fdatin = np.fft.fft(datin, N)\n",
    "    \n",
    "    # get the phase shift, shift here is D in the above explaination\n",
    "    ik = np.array([2j*np.pi*k for k in xrange(0, N)]) / N \n",
    "    fshift = np.exp(-ik*shift)\n",
    "        \n",
    "    # multiple the signal with shift and transform it back to time domain\n",
    "    datout = np.real(np.fft.ifft(fshift * fdatin))\n",
    "    \n",
    "    # only get the data have the same length as the input signal\n",
    "    datout = datout[0:Nin]\n",
    "    \n",
    "    return datout"
   ]
  },
  {
   "cell_type": "markdown",
   "metadata": {},
   "source": [
    "## Example"
   ]
  },
  {
   "cell_type": "code",
   "execution_count": 3,
   "metadata": {
    "collapsed": false
   },
   "outputs": [],
   "source": [
    "Fs = 150.0;  # sampling rate\n",
    "Ts = 1.0/Fs; # sampling interval\n",
    "t = np.arange(0,1,Ts) # time vector\n",
    "\n",
    "ff = 5;   # frequency of the signal\n",
    "\n",
    "# let's generate a sine signal\n",
    "y = np.sin(2*np.pi*ff*t)\n",
    "\n",
    "# shift the signal in the frequency domain by 20 samples\n",
    "y_shift = shift_signal_in_frequency_domain(y, -20)\n",
    "\n",
    "plt.plot(y, label = 'y')\n",
    "plt.plot(y_shift, label = 'y_shift')\n",
    "plt.xlabel('Sample')\n",
    "plt.ylabel('Amplitude')\n",
    "plt.legend()\n",
    "plt.show()"
   ]
  },
  {
   "cell_type": "markdown",
   "metadata": {
    "collapsed": true
   },
   "source": [
    "### References\n",
    "Good explaination at stackexchange:\n",
    "http://dsp.stackexchange.com/questions/509/what-effect-does-a-delay-in-the-time-domain-have-in-the-frequency-domain"
   ]
  }
 ],
 "metadata": {
  "kernelspec": {
   "display_name": "Python 2",
   "language": "python",
   "name": "python2"
  },
  "language_info": {
   "codemirror_mode": {
    "name": "ipython",
    "version": 2
   },
   "file_extension": ".py",
   "mimetype": "text/x-python",
   "name": "python",
   "nbconvert_exporter": "python",
   "pygments_lexer": "ipython2",
   "version": "2.7.10"
  }
 },
 "nbformat": 4,
 "nbformat_minor": 0
}
