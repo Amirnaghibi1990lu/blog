{
 "cells": [
  {
   "cell_type": "markdown",
   "metadata": {},
   "source": [
    "I usually need to plot the moment tensors on the map, but plot them in the google earth is really cool. This week, I will blog how to do that based on [this blog](http://www.geophysique.be/2012/11/13/easily-create-kml-file-to-plot-beachball-in-google-earth/) from my friend Thomas. Some of the API in his blog have already changed in the past, and I will make a working example. "
   ]
  },
  {
   "cell_type": "code",
   "execution_count": null,
   "metadata": {},
   "outputs": [],
   "source": [
    "# You need to install the pykml first if you don't have it. \n",
    "# The other thing is that, it is written in python 2, if you are using python 3 as I am doing here, \n",
    "# then you need to add parentheses for the print function in the factory.py file in the pykml. \n",
    "!pip install pykml"
   ]
  },
  {
   "cell_type": "markdown",
   "metadata": {},
   "source": [
    "![image.png](https://raw.githubusercontent.com/qingkaikong/blog/master/2018_32_create_kml_for_MT/figures/figure_0.png)"
   ]
  },
  {
   "cell_type": "code",
   "execution_count": 4,
   "metadata": {},
   "outputs": [],
   "source": [
    "from lxml import etree      #will manage the identation of the kml script\n",
    "from pykml.factory import KML_ElementMaker as KML #import pykml library \n",
    "import datetime as date\n",
    "import numpy as np"
   ]
  },
  {
   "cell_type": "code",
   "execution_count": 5,
   "metadata": {},
   "outputs": [],
   "source": [
    "def beachball(data):\n",
    "    \"\"\"function to draw beachball using obspy library\"\"\"\n",
    "    import matplotlib.pyplot as plt\n",
    "    from obspy.imaging.beachball import beachball\n",
    " \n",
    "    mt =data[:, 9:]\n",
    "    event=data[:,0]                 #index to identify the beachball created\n",
    "    for j in range(len(event)):\n",
    "        #create and save beachball in a outfile in the directory where the .py file is \n",
    "        beach = beachball(mt[j, :],outfile=str(int(event[j]))) "
   ]
  },
  {
   "cell_type": "markdown",
   "metadata": {},
   "source": [
    "The first thing is that we need to generate a file that contains the list of event with the moment tensors, here the format is: index, yyyy, mm, dd, hr, mn, ss, lat, lon, mrr, mtt, mpp, mrt, mrp, mtp\n",
    "\n",
    "I generated a file called mt_list, let's see the first 3 lines:"
   ]
  },
  {
   "cell_type": "code",
   "execution_count": 6,
   "metadata": {},
   "outputs": [
    {
     "name": "stdout",
     "output_type": "stream",
     "text": [
      "# index, yyyy, mm, dd, hr, mn, ss, lat, lon, mrr, mtt, mpp, mrt, mrp, mtp\r\n",
      "0.00000,2018.00000,5.00000,29.00000,11.00000,56.00000,11.00000,19.41200,-155.28383,-98650000000000000.00000,53510000000000000.00000,45140000000000000.00000,-75790000000000000.00000,9460000000000000.00000,14910000000000000.00000\r\n",
      "1.00000,2018.00000,5.00000,30.00000,20.00000,53.00000,50.00000,19.41083,-155.28583,-107650000000000000.00000,45970000000000000.00000,61690000000000000.00000,-78720000000000000.00000,67750000000000000.00000,22930000000000000.00000\r\n"
     ]
    }
   ],
   "source": [
    "!head -n 3 ./mt_list"
   ]
  },
  {
   "cell_type": "code",
   "execution_count": null,
   "metadata": {},
   "outputs": [],
   "source": [
    "#import your data\n",
    "# the first row isn't used\n",
    "data=np.loadtxt('./mt_list',skiprows=1, delimiter=',') \n",
    "latitude = data[:,7]\n",
    "longitude = data[:,8]\n",
    "yyyy,mm,dd=data[:,1],data[:,2],data[:,3]\n",
    "hr,mn,ss = data[:,4],data[:,5],data[:,6]\n",
    "index=data[:,0]\n",
    "\n",
    "#call beachball function   --> put in comment this line if you don't want to draw again all beachballs\n",
    "beachball(data)        \n",
    "\n",
    "######################################################################################################\n",
    "# create a document element with multiple label style\n",
    "kmlobj = KML.kml(\n",
    "    KML.Document(\n",
    "    )\n",
    ")   \n",
    " \n",
    "for j in range(len(yyyy)):  #create the ref icons we will use\n",
    "    kmlobj.Document.append(     \n",
    "        KML.Style(             \n",
    "            KML.IconStyle(\n",
    "                KML.Icon(\n",
    "                    KML.href('%s.png'%str(int(index[j]))),\n",
    "                    KML.scale(0.6),   #scale the beachball in googleEarth\n",
    "                ),\n",
    "                KML.heading(0.0),\n",
    "            ),\n",
    "        id='beach_ball_%i'%j    #gives the icon a ref that will be used later\n",
    "        ),\n",
    "    )\n",
    "\n",
    "# add images to the document element\n",
    "for i in range(len(yyyy)):\n",
    "    datum = str(date.date(int(yyyy[i]),int(mm[i]),int(dd[i])))\n",
    "    ev_time = str(date.time(int(hr[i]),int(mn[i]),int(ss[i])))\n",
    " \n",
    "    kmlobj.Document.append(\n",
    "        KML.Placemark(\n",
    "            #~ KML.name('%s'%str(int(index[i]))),   #uncomment this to add a name to the placemark (will always appear in GoogleEarth)\n",
    "            KML.ExtendedData(                       #I add information about the earthquake, it appears in a table ('info' : value)\n",
    "                KML.Data(                           \n",
    "                    KML.value('%s'%datum),          #add value of the specific info\n",
    "                name ='date'                        #name of'info' you add.\n",
    "                ),\n",
    "                KML.Data(\n",
    "                    KML.value('%s'%ev_time),        #add value of the specific info \n",
    "                name ='time'                        #name of 'info' you add.\n",
    "                ),                                     #more data can be added, following the same structure (line 65-68)\n",
    "            ),\n",
    "            KML.styleUrl('#beach_ball_%i'%i),       #get the correct beachball in the directory as marker\n",
    "            KML.Point(\n",
    "                KML.coordinates(longitude[i],',',latitude[i]),\n",
    "            ),\n",
    " \n",
    "        ),\n",
    "    )\n",
    "\n",
    "print(etree.tostring(etree.ElementTree(kmlobj),pretty_print=True))\n",
    "\n",
    "outfile = open('Focal_mechanism_devy.kml', 'wb') #save the kml structure code\n",
    "outfile.write(etree.tostring(kmlobj, pretty_print=True))"
   ]
  }
 ],
 "metadata": {
  "kernelspec": {
   "display_name": "Python 3",
   "language": "python",
   "name": "python3"
  },
  "language_info": {
   "codemirror_mode": {
    "name": "ipython",
    "version": 3
   },
   "file_extension": ".py",
   "mimetype": "text/x-python",
   "name": "python",
   "nbconvert_exporter": "python",
   "pygments_lexer": "ipython3",
   "version": "3.6.5"
  }
 },
 "nbformat": 4,
 "nbformat_minor": 2
}
