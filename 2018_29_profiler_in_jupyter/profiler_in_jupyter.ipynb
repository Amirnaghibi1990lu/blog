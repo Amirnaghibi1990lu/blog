{
 "cells": [
  {
   "cell_type": "markdown",
   "metadata": {},
   "source": [
    "We discussed using profiler to profile your code and find out where it is slow in the [previous blog](http://qingkaikong.blogspot.com/2016/01/profile-your-python-code.html), and but you need to run from command line. Today, we will have a look of the profile code in jupyter notebook. Note that, if you haven't install 'line_profiler', install it first:\n",
    "\n",
    "```python\n",
    "pip install line_profiler\n",
    "```\n",
    "\n"
   ]
  },
  {
   "cell_type": "markdown",
   "metadata": {},
   "source": [
    "Let's first define some functions to calculate random things. There are three functions that calling one by one. "
   ]
  },
  {
   "cell_type": "code",
   "execution_count": 1,
   "metadata": {},
   "outputs": [],
   "source": [
    "def square_the_value(x, y):\n",
    "    \n",
    "    a = add_1000_times(x, y)\n",
    "    \n",
    "    return a**2\n",
    "\n",
    "def add_1000_times(x, y):\n",
    "    z = 0\n",
    "    for i in range(1000):\n",
    "        z += x\n",
    "        for j in range(1000):\n",
    "            z += y\n",
    "        \n",
    "    return z\n",
    "\n",
    "def calculate_my_value(x, y):\n",
    "    \n",
    "    a = x + y\n",
    "    b = x - y\n",
    "    \n",
    "    print(square_the_value(a, b))"
   ]
  },
  {
   "cell_type": "code",
   "execution_count": 2,
   "metadata": {},
   "outputs": [
    {
     "name": "stdout",
     "output_type": "stream",
     "text": [
      "994009000000\n"
     ]
    }
   ],
   "source": [
    "calculate_my_value(1, 2)"
   ]
  },
  {
   "cell_type": "markdown",
   "metadata": {},
   "source": [
    "Now we want to have an idea of which part of the code running fast and which part running slow. We could use the line_profiler to do the job. First, we need to load the extention:"
   ]
  },
  {
   "cell_type": "code",
   "execution_count": 3,
   "metadata": {
    "collapsed": true
   },
   "outputs": [],
   "source": [
    "%load_ext line_profiler"
   ]
  },
  {
   "cell_type": "markdown",
   "metadata": {},
   "source": [
    "Let's profile the top level function that we run. We can see that we use '%lprun', which basically run the line_profiler, the '-f' flag is to tell it which function or method we want to profile, and the calculate_my_value(1, 2) is the real statement that we want to run:"
   ]
  },
  {
   "cell_type": "code",
   "execution_count": 4,
   "metadata": {},
   "outputs": [
    {
     "name": "stdout",
     "output_type": "stream",
     "text": [
      "994009000000\n"
     ]
    },
    {
     "data": {
      "text/plain": [
       "Timer unit: 1e-06 s\n",
       "\n",
       "Total time: 0.295409 s\n",
       "File: <ipython-input-1-0c3fada21717>\n",
       "Function: calculate_my_value at line 16\n",
       "\n",
       "Line #      Hits         Time  Per Hit   % Time  Line Contents\n",
       "==============================================================\n",
       "    16                                           def calculate_my_value(x, y):\n",
       "    17                                               \n",
       "    18         1          3.0      3.0      0.0      a = x + y\n",
       "    19         1          1.0      1.0      0.0      b = x - y\n",
       "    20                                               \n",
       "    21         1     295405.0 295405.0    100.0      print(square_the_value(a, b))"
      ]
     },
     "metadata": {},
     "output_type": "display_data"
    }
   ],
   "source": [
    "%lprun -f calculate_my_value calculate_my_value(1, 2)"
   ]
  },
  {
   "cell_type": "markdown",
   "metadata": {},
   "source": [
    "Now we could see that the line_profiler give us the time to run each line, and what's the percentage of this line takes. We could see that the last line used all the time. We can continue to profile the last time by enter into the square_the_value function:"
   ]
  },
  {
   "cell_type": "code",
   "execution_count": 5,
   "metadata": {
    "collapsed": true
   },
   "outputs": [
    {
     "name": "stdout",
     "output_type": "stream",
     "text": [
      "994009000000\n"
     ]
    },
    {
     "data": {
      "text/plain": [
       "Timer unit: 1e-06 s\n",
       "\n",
       "Total time: 0.39605 s\n",
       "File: <ipython-input-1-0c3fada21717>\n",
       "Function: square_the_value at line 1\n",
       "\n",
       "Line #      Hits         Time  Per Hit   % Time  Line Contents\n",
       "==============================================================\n",
       "     1                                           def square_the_value(x, y):\n",
       "     2                                               \n",
       "     3         1     396048.0 396048.0    100.0      a = add_1000_times(x, y)\n",
       "     4                                               \n",
       "     5         1          2.0      2.0      0.0      return a**2"
      ]
     },
     "metadata": {},
     "output_type": "display_data"
    }
   ],
   "source": [
    "%lprun -f square_the_value calculate_my_value(1, 2)"
   ]
  },
  {
   "cell_type": "markdown",
   "metadata": {},
   "source": [
    "Similarly, we could profile the add_1000_times function to figure out which line really takes all the time:"
   ]
  },
  {
   "cell_type": "code",
   "execution_count": 6,
   "metadata": {},
   "outputs": [
    {
     "name": "stdout",
     "output_type": "stream",
     "text": [
      "994009000000\n"
     ]
    },
    {
     "data": {
      "text/plain": [
       "Timer unit: 1e-06 s\n",
       "\n",
       "Total time: 0.829793 s\n",
       "File: <ipython-input-1-0c3fada21717>\n",
       "Function: add_1000_times at line 7\n",
       "\n",
       "Line #      Hits         Time  Per Hit   % Time  Line Contents\n",
       "==============================================================\n",
       "     7                                           def add_1000_times(x, y):\n",
       "     8         1          1.0      1.0      0.0      z = 0\n",
       "     9      1001        382.0      0.4      0.0      for i in range(1000):\n",
       "    10      1000        423.0      0.4      0.1          z += x\n",
       "    11   1001000     388197.0      0.4     46.8          for j in range(1000):\n",
       "    12   1000000     440788.0      0.4     53.1              z += y\n",
       "    13                                                   \n",
       "    14         1          2.0      2.0      0.0      return z"
      ]
     },
     "metadata": {},
     "output_type": "display_data"
    }
   ],
   "source": [
    "%lprun -f add_1000_times calculate_my_value(1, 2)"
   ]
  },
  {
   "cell_type": "markdown",
   "metadata": {},
   "source": [
    "The profiler is really useful, I use it all the time to optimize my code to remove some of the inefficient code. Hope you will find it useful as well. "
   ]
  }
 ],
 "metadata": {
  "kernelspec": {
   "display_name": "Python 3",
   "language": "python",
   "name": "python3"
  },
  "language_info": {
   "codemirror_mode": {
    "name": "ipython",
    "version": 3
   },
   "file_extension": ".py",
   "mimetype": "text/x-python",
   "name": "python",
   "nbconvert_exporter": "python",
   "pygments_lexer": "ipython3",
   "version": "3.6.5"
  }
 },
 "nbformat": 4,
 "nbformat_minor": 2
}
