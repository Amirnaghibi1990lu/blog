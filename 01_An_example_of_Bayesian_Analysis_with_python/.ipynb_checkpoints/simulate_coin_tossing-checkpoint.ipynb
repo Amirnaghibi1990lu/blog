{
 "metadata": {
  "name": ""
 },
 "nbformat": 3,
 "nbformat_minor": 0,
 "worksheets": [
  {
   "cells": [
    {
     "cell_type": "code",
     "collapsed": false,
     "input": [
      "import numpy as np\n",
      "import matplotlib.pyplot as plt\n",
      "import decimal"
     ],
     "language": "python",
     "metadata": {},
     "outputs": [],
     "prompt_number": 8
    },
    {
     "cell_type": "code",
     "collapsed": false,
     "input": [
      "def generate_HT():\n",
      "    '''\n",
      "    Function to generate random number to represent head (1) or tail (0) in a coin toss. \n",
      "    What I did here is to generate an integer number between 0 and 4, and if it is one, then return one (head), \n",
      "    otherwise return zero (tail). This is to say, the probability of getting a head is 0.25, so it is a biased coin.\n",
      "    '''\n",
      "    #generate a random integer between 0 and 4\n",
      "    rnd = np.random.randint(0,4)\n",
      "    \n",
      "    if rnd > 1:\n",
      "        return 0\n",
      "    else:\n",
      "        return rnd"
     ],
     "language": "python",
     "metadata": {},
     "outputs": [],
     "prompt_number": 4
    },
    {
     "cell_type": "code",
     "collapsed": false,
     "input": [
      "def simulation(N = 100):\n",
      "    '''\n",
      "    This is the function to simulate multiple toss of a coin, and it returns two numbers and a list:\n",
      "    number of cases of head, and number of cases of tail, and outcome_list contains all the outcome \n",
      "    in order. N is the total number of toss. \n",
      "    '''\n",
      "    outcome_list = []\n",
      "    R = 0\n",
      "    for i in range(N):\n",
      "        out = generate_HT()\n",
      "        if out == 1:\n",
      "            R += 1\n",
      "        outcome_list.append(out)    \n",
      "    return R, N-R, outcome_list"
     ],
     "language": "python",
     "metadata": {},
     "outputs": [],
     "prompt_number": 5
    },
    {
     "cell_type": "code",
     "collapsed": false,
     "input": [
      "def plot_posterior(R,T):\n",
      "    '''\n",
      "    This is the function to plot the posterior. \n",
      "    Input:\n",
      "    R - number of cases of head\n",
      "    T - number of cases of tail\n",
      "    \n",
      "    The assumption here is that each toss is independent of the others, and we use a binomial to model \n",
      "    the likelihood function. Because we don't know have any idea of the fairness of the coin, we just\n",
      "    use a uniform distribution to model the prior. \n",
      "    '''\n",
      "    #H is our parameter that is the probability of getting a head, we generate a grid from 0 to 1\n",
      "    H = np.linspace(0,1,300)\n",
      "    \n",
      "    #calculate the posterior, the multiply by 1 is the prior (because it is a uniform prior)\n",
      "    y = H**R*(1-H)**T * 1\n",
      "    \n",
      "    plt.plot(H, y)\n",
      "    plt.xlabel('Bias-weighting for Heads', fontsize = 14)\n",
      "    plt.ylabel('Posterior (without normalization)', fontsize = 14)\n",
      "    plt.title(str(R) + ' heads, ' + str(T) + ' tails, total ' + str(R+T) +' tosses')\n",
      "    plt.show()"
     ],
     "language": "python",
     "metadata": {},
     "outputs": [],
     "prompt_number": 10
    },
    {
     "cell_type": "code",
     "collapsed": false,
     "input": [
      "R, T, outcome_list = simulation(N = 1000)\n",
      "plot_posterior(R,T)"
     ],
     "language": "python",
     "metadata": {},
     "outputs": [],
     "prompt_number": 11
    },
    {
     "cell_type": "markdown",
     "metadata": {},
     "source": [
      "##Plot the figure for different tosses"
     ]
    },
    {
     "cell_type": "code",
     "collapsed": false,
     "input": [
      "def plot_exmaple_of_all():\n",
      "    '''\n",
      "    This is the funciton to plot the figures show the evolution of the posterior pdf\n",
      "    as the number of tosses increase. \n",
      "    '''\n",
      "    n_tosses = [0, 1, 2, 3, 4, 8, 16, 32, 64, 128, 256, 512, 1024, 2048, 4096]\n",
      "    fig = plt.figure(figsize = (15,9.5))\n",
      "    \n",
      "    H = np.linspace(0.00001,0.9999999,300)\n",
      "    \n",
      "    #do a simulation with 4096 tosses\n",
      "    total_R, total_T, outcome_list = simulation(N = 4096)\n",
      "    \n",
      "    for i, toss in enumerate(n_tosses):\n",
      "        \n",
      "        #get the outcome to the tosses\n",
      "        outcome = outcome_list[0:toss]\n",
      "        #get the total number of heads\n",
      "        R = outcome.count(1)\n",
      "        #get the total number of tails\n",
      "        T = toss - R\n",
      "        #calculate the posterior\n",
      "        y = H**R*(1-H)**T * 1\n",
      "        \n",
      "        #here, because the values for the 2048 and 4096 tosses are too small, less than 1e-320, \n",
      "        #it becomes to zero, this is the underflow issue usually happen in bayesian analysis.\n",
      "        #What I did here is to calculate the really small number using decimal module, and then \n",
      "        #multiply this small number by a scalar which is largest integer number divide by 20, \n",
      "        #this is more like a trial and error, so may not stable, but most of the time, it looks\n",
      "        #fine, I don't know if there's better ways to work around. \n",
      "         \n",
      "        if i > 12:\n",
      "            #take the log of the likelihood, this will turn the multiply prbability into addition\n",
      "            y1 = R*np.log(H) + T*np.log(1-H)\n",
      "            y = []\n",
      "            \n",
      "            #recalculate the small number by taking the exp, but I multiplied by 10**factor, the\n",
      "            #factor is largest decimal divide by 20.\n",
      "            factor = int((-1)*np.min(y1[1:-1])/20)\n",
      "            for item in y1:\n",
      "                y.append(decimal.Decimal(item).exp()*10**factor)\n",
      "        \n",
      "        #plot the pdf\n",
      "        ax = plt.subplot(5, 3, i+1)\n",
      "        ax.plot(H, y)\n",
      "        #disable y axis label\n",
      "        ax.yaxis.set_visible(False)\n",
      "\n",
      "        # Setting the x-axis major tick's label\n",
      "        ax.set_xticks([0, 0.25, 0.5, 0.75, 1])\n",
      "        ax.set_xticklabels(['0','','0.5','','1'])\n",
      "        ax.annotate(str(R) + 'H, ' + str(T) + 'T, N=' + str(toss), xy=(1, 0.1), xycoords='axes fraction', fontsize=12,\n",
      "                horizontalalignment='right', verticalalignment='bottom')        \n",
      "    \n",
      "    plt.show()\n",
      "        "
     ],
     "language": "python",
     "metadata": {},
     "outputs": [],
     "prompt_number": 9
    },
    {
     "cell_type": "code",
     "collapsed": false,
     "input": [
      "plot_exmaple_of_all()"
     ],
     "language": "python",
     "metadata": {},
     "outputs": [],
     "prompt_number": 21
    },
    {
     "cell_type": "code",
     "collapsed": false,
     "input": [],
     "language": "python",
     "metadata": {},
     "outputs": []
    }
   ],
   "metadata": {}
  }
 ]
}