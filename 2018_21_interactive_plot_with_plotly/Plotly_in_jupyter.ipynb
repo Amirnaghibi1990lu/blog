{
 "cells": [
  {
   "cell_type": "code",
   "execution_count": 8,
   "metadata": {},
   "outputs": [],
   "source": [
    "import plotly.plotly as py\n",
    "import plotly.figure_factory as ff\n",
    "import pandas as pd\n",
    "from plotly.graph_objs import *\n",
    "import numpy as np"
   ]
  },
  {
   "cell_type": "code",
   "execution_count": 21,
   "metadata": {},
   "outputs": [
    {
     "data": {
      "text/html": [
       "<script>requirejs.config({paths: { 'plotly': ['https://cdn.plot.ly/plotly-latest.min']},});if(!window.Plotly) {{require(['plotly'],function(plotly) {window.Plotly=plotly;});}}</script>"
      ],
      "text/vnd.plotly.v1+html": [
       "<script>requirejs.config({paths: { 'plotly': ['https://cdn.plot.ly/plotly-latest.min']},});if(!window.Plotly) {{require(['plotly'],function(plotly) {window.Plotly=plotly;});}}</script>"
      ]
     },
     "metadata": {},
     "output_type": "display_data"
    }
   ],
   "source": [
    "#plotly.offline.init_notebook_mode(connected=True)"
   ]
  },
  {
   "cell_type": "markdown",
   "metadata": {},
   "source": [
    "## Let's first read in the data"
   ]
  },
  {
   "cell_type": "code",
   "execution_count": 2,
   "metadata": {},
   "outputs": [],
   "source": [
    "file_online = 'https://raw.githubusercontent.com/qingkaikong/blog/master/2018_01_QGIS_projection_systems/data/World_EQ_6%2B_2000_2018.csv'\n",
    "df = pd.read_csv(file_online)\n",
    "df = df[['time', 'latitude', 'longitude', 'depth', 'mag']]"
   ]
  },
  {
   "cell_type": "markdown",
   "metadata": {},
   "source": [
    "## Make a histogram"
   ]
  },
  {
   "cell_type": "code",
   "execution_count": 3,
   "metadata": {},
   "outputs": [
    {
     "data": {
      "text/html": [
       "<iframe id=\"igraph\" scrolling=\"no\" style=\"border:none;\" seamless=\"seamless\" src=\"https://plot.ly/~kongqk/19.embed\" height=\"525px\" width=\"100%\"></iframe>"
      ],
      "text/plain": [
       "<plotly.tools.PlotlyDisplay object>"
      ]
     },
     "execution_count": 3,
     "metadata": {},
     "output_type": "execute_result"
    }
   ],
   "source": [
    "data = [Histogram(x=df.mag, xbins = {'end':9.5, 'size':0.5, 'start': 6.5})]\n",
    "layout = Layout(\n",
    "    xaxis=dict(\n",
    "        title='Magnitude',\n",
    "        autorange=True\n",
    "    ),\n",
    "    yaxis=dict(\n",
    "        title='Occurence in log scale',\n",
    "        type='log',\n",
    "        autorange=True\n",
    "    )\n",
    ")\n",
    "\n",
    "fig = Figure(data = data, layout = layout)\n",
    "\n",
    "py.iplot(fig, filname='blogs/mag_hist')"
   ]
  },
  {
   "cell_type": "markdown",
   "metadata": {},
   "source": [
    "## Make a map"
   ]
  },
  {
   "cell_type": "code",
   "execution_count": 15,
   "metadata": {},
   "outputs": [
    {
     "data": {
      "text/html": [
       "<iframe id=\"igraph\" scrolling=\"no\" style=\"border:none;\" seamless=\"seamless\" src=\"https://plot.ly/~kongqk/27.embed\" height=\"525px\" width=\"100%\"></iframe>"
      ],
      "text/plain": [
       "<plotly.tools.PlotlyDisplay object>"
      ]
     },
     "execution_count": 15,
     "metadata": {},
     "output_type": "execute_result"
    }
   ],
   "source": [
    "#mapbox_access_token = 'YOUR_ACESS_KEY_HERE'\n",
    "mapbox_access_token = 'pk.eyJ1Ijoia29uZ3FrIiwiYSI6ImNqZzF1ajV6NDE3dmcycW82MWJhOHVlbXYifQ.Y0NR16xM8roCvu2-xKOLxQ'\n",
    "\n",
    "site_lat = df.latitude\n",
    "site_lon = df.longitude\n",
    "mag = df.mag\n",
    "data = Data([\n",
    "    Scattermapbox(\n",
    "        lat=site_lat,\n",
    "        lon=site_lon,\n",
    "        mode='markers',\n",
    "        marker=Marker(\n",
    "            size=(df.mag -4) ** 2 ,\n",
    "            color=df.depth,\n",
    "            colorscale='Rainbow',\n",
    "            opacity=0.7,\n",
    "            colorbar=dict(nticks=5, \n",
    "                        tickmode='array',\n",
    "                        tickvals=[10,100,300,500, 600]),\n",
    "        ),\n",
    "        text=mag,\n",
    "        hoverinfo='text'\n",
    "    )]\n",
    ")\n",
    "        \n",
    "layout = Layout(\n",
    "    title='M6+ earthquakes from 2016 to 2018',\n",
    "    autosize=True,\n",
    "    hovermode='closest',\n",
    "    showlegend=False,\n",
    "    mapbox=dict(\n",
    "        accesstoken=mapbox_access_token,\n",
    "        bearing=0,\n",
    "        center=dict(\n",
    "            lat=38,\n",
    "            lon=-94\n",
    "        ),\n",
    "        pitch=0,\n",
    "        zoom=0,\n",
    "        style='light'\n",
    "    ),\n",
    ")\n",
    "\n",
    "fig = dict(data=data, layout=layout)\n",
    "\n",
    "py.iplot(fig)"
   ]
  },
  {
   "cell_type": "code",
   "execution_count": null,
   "metadata": {},
   "outputs": [],
   "source": []
  }
 ],
 "metadata": {
  "kernelspec": {
   "display_name": "Python 2",
   "language": "python",
   "name": "python2"
  },
  "language_info": {
   "codemirror_mode": {
    "name": "ipython",
    "version": 2
   },
   "file_extension": ".py",
   "mimetype": "text/x-python",
   "name": "python",
   "nbconvert_exporter": "python",
   "pygments_lexer": "ipython2",
   "version": "2.7.14"
  }
 },
 "nbformat": 4,
 "nbformat_minor": 2
}
